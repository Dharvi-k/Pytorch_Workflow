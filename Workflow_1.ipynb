{
  "nbformat": 4,
  "nbformat_minor": 0,
  "metadata": {
    "colab": {
      "provenance": [],
      "authorship_tag": "ABX9TyP+DSuNcR0nfjPyB5TXlZLL",
      "include_colab_link": true
    },
    "kernelspec": {
      "name": "python3",
      "display_name": "Python 3"
    },
    "language_info": {
      "name": "python"
    }
  },
  "cells": [
    {
      "cell_type": "markdown",
      "metadata": {
        "id": "view-in-github",
        "colab_type": "text"
      },
      "source": [
        "<a href=\"https://colab.research.google.com/github/Dharvi-k/D/blob/main/Workflow(pytorch).ipynb\" target=\"_parent\"><img src=\"https://colab.research.google.com/assets/colab-badge.svg\" alt=\"Open In Colab\"/></a>"
      ]
    },
    {
      "cell_type": "markdown",
      "source": [
        "EXERCISES\n"
      ],
      "metadata": {
        "id": "tQ2u7fhifFIq"
      }
    },
    {
      "cell_type": "markdown",
      "source": [
        "1. Create a straight line dataset using the linear regression formula (weight * X + bias)."
      ],
      "metadata": {
        "id": "PqFLR6VTqEmy"
      }
    },
    {
      "cell_type": "code",
      "execution_count": 48,
      "metadata": {
        "colab": {
          "base_uri": "https://localhost:8080/",
          "height": 308
        },
        "id": "LDc6Rd1-fA_b",
        "outputId": "c472156f-cff1-4e1b-80cc-d5aca8cbac1f"
      },
      "outputs": [
        {
          "output_type": "execute_result",
          "data": {
            "text/plain": [
              "<matplotlib.legend.Legend at 0x7a2cf05fb710>"
            ]
          },
          "metadata": {},
          "execution_count": 48
        },
        {
          "output_type": "display_data",
          "data": {
            "text/plain": [
              "<Figure size 500x300 with 1 Axes>"
            ],
            "image/png": "[encoded data removed]"
          },
          "metadata": {}
        }
      ],
      "source": [
        "import torch\n",
        "import matplotlib.pyplot as plt\n",
        "\n",
        "weight=0.3\n",
        "bias=0.9\n",
        "#creating data\n",
        "start=0\n",
        "end=1\n",
        "step=0.01\n",
        "x=torch.arange(start,end,step)\n",
        "y=weight * x + bias\n",
        "\n",
        "#split the data into training and testing\n",
        "train_split=int(0.8*len(x))\n",
        "x_train,y_train=x[:train_split],y[:train_split]\n",
        "x_test,y_test=x[train_split:],y[train_split:]\n",
        "\n",
        "# Plot the training and testing data\n",
        "plt.figure(figsize=(5,3))\n",
        "plt.scatter(x_train,y_train,c=\"b\",s=4,label=\"training data\")\n",
        "plt.scatter(x_test,y_test,c=\"r\",s=4,label=\"tetsing data\")\n",
        "plt.legend(fontsize=5)\n",
        "\n"
      ]
    },
    {
      "cell_type": "markdown",
      "source": [
        "2. Build a PyTorch model by subclassing nn.Module."
      ],
      "metadata": {
        "id": "9kKItOsqp6fv"
      }
    },
    {
      "cell_type": "code",
      "source": [
        "import torch\n",
        "from torch import nn\n",
        "\n",
        "# Create PyTorch linear regression model by subclassing nn.Module\n",
        "\n",
        "class LinearRegressionModel(nn.Module):\n",
        "  def __init__(self):\n",
        "    super().__init__()\n",
        "    self.weights=nn.Parameter(torch.randn(1,dtype=torch.float),requires_grad=True)\n",
        "    self.bias=nn.Parameter(torch.randn(1,dtype=torch.float),requires_grad=True)\n",
        "\n",
        "  def forward(self,x:torch.Tensor)->torch.Tensor:\n",
        "    return self.weights *x +self.bias\n",
        "\n",
        "\n",
        "Model_1=LinearRegressionModel()\n",
        "Model_1.state_dict()\n"
      ],
      "metadata": {
        "colab": {
          "base_uri": "https://localhost:8080/"
        },
        "id": "c4lVGV_IqqIM",
        "outputId": "c8c20a35-e531-4162-f5f8-30e0a036373d"
      },
      "execution_count": 53,
      "outputs": [
        {
          "output_type": "execute_result",
          "data": {
            "text/plain": [
              "OrderedDict([('weights', tensor([-0.3101])), ('bias', tensor([2.3876]))])"
            ]
          },
          "metadata": {},
          "execution_count": 53
        }
      ]
    },
    {
      "cell_type": "markdown",
      "source": [
        "3. Create a loss function and optimizer using nn.L1Loss() and torch.optim.SGD(params, lr) respectively."
      ],
      "metadata": {
        "id": "pdQNzCuZweJO"
      }
    },
    {
      "cell_type": "code",
      "source": [
        "# Create the loss function and optimizer\n",
        "loss_fxn=nn.L1Loss()\n",
        "optimizer=torch.optim.SGD(params=Model_1.parameters(),lr=0.01)\n",
        "\n",
        "# Training loop\n",
        "epochs=300\n",
        "for epoch in range(epochs):\n",
        "  Model_1.train()\n",
        "  # 1. Forward pass\n",
        "  y_pred=Model_1(x_train)\n",
        "  # 2. Calculate loss\n",
        "  Loss=loss_fxn(y_pred,y_train)\n",
        "  # 3. Zero gradients\n",
        "  optimizer.zero_grad()\n",
        "  # 4. Backpropagation\n",
        "  Loss.backward()\n",
        "  # 5. Step the optimizer\n",
        "  optimizer.step()\n",
        "\n",
        "### Perform testing every 20 epochs\n",
        "  if epoch % 20 == 0:\n",
        "  # Put model in evaluation mode and setup inference context\n",
        "    Model_1.eval()\n",
        "    with torch.inference_mode():\n",
        "      # 1. Forward pass\n",
        "      test_pred=Model_1(x_test)\n",
        "      # 2. Calculate test loss\n",
        "      test_loss=loss_fxn(test_pred,y_test)\n",
        "    # Print out what's happening\n",
        "      print(f\"Epoch: {epoch} | Train loss: {Loss:.3f} | Test loss: {test_loss:.3f}\")\n",
        "\n"
      ],
      "metadata": {
        "colab": {
          "base_uri": "https://localhost:8080/"
        },
        "collapsed": true,
        "id": "lYqE1jmHwjkD",
        "outputId": "3d99fb26-3916-42c7-a190-153db19b2572"
      },
      "execution_count": 60,
      "outputs": [
        {
          "output_type": "stream",
          "name": "stdout",
          "text": [
            "Epoch: 0 | Train loss: 0.033 | Test loss: 0.076\n",
            "Epoch: 20 | Train loss: 0.026 | Test loss: 0.060\n",
            "Epoch: 40 | Train loss: 0.019 | Test loss: 0.044\n",
            "Epoch: 60 | Train loss: 0.012 | Test loss: 0.027\n",
            "Epoch: 80 | Train loss: 0.005 | Test loss: 0.011\n",
            "Epoch: 100 | Train loss: 0.005 | Test loss: 0.010\n",
            "Epoch: 120 | Train loss: 0.005 | Test loss: 0.010\n",
            "Epoch: 140 | Train loss: 0.005 | Test loss: 0.010\n",
            "Epoch: 160 | Train loss: 0.005 | Test loss: 0.010\n",
            "Epoch: 180 | Train loss: 0.005 | Test loss: 0.010\n",
            "Epoch: 200 | Train loss: 0.005 | Test loss: 0.010\n",
            "Epoch: 220 | Train loss: 0.005 | Test loss: 0.010\n",
            "Epoch: 240 | Train loss: 0.005 | Test loss: 0.010\n",
            "Epoch: 260 | Train loss: 0.005 | Test loss: 0.010\n",
            "Epoch: 280 | Train loss: 0.005 | Test loss: 0.010\n"
          ]
        }
      ]
    },
    {
      "cell_type": "markdown",
      "source": [
        "CREATING A FUNCTION TO VISULIZE THE DATA"
      ],
      "metadata": {
        "id": "b4USMxJg7oxJ"
      }
    },
    {
      "cell_type": "code",
      "source": [
        "#creating function to visualize data\n",
        "def plot_prediction(train_data=x_train,\n",
        "                    test_data=x_test,\n",
        "                    train_labels=y_train,\n",
        "                    test_labels=y_test,\n",
        "                    predictions=None):\n",
        "  plt.figure(figsize=(5,3))\n",
        "  plt.scatter(x_train,y_train,c=\"b\",s=4,label=\"Training data\")\n",
        "  plt.scatter(x_test,y_test,c=\"g\",s=4,label=\"Testing data\")\n",
        "  if predictions is not None:\n",
        "    plt.scatter(test_data,predictions,c=\"r\",s=4,label=\"predictions\")\n",
        "  plt.legend(fontsize=8)"
      ],
      "metadata": {
        "id": "uQNsc-iX7x2O"
      },
      "execution_count": 55,
      "outputs": []
    },
    {
      "cell_type": "markdown",
      "source": [
        "4. Make predictions with the trained model on the test data."
      ],
      "metadata": {
        "id": "_ItnUsQO5a2-"
      }
    },
    {
      "cell_type": "code",
      "source": [
        "# Make predictions with the model\n",
        "Model_1.eval()\n",
        "with torch.inference_mode():\n",
        "  y_preds=Model_1(x_test)\n",
        "\n",
        "# Plot the predictions\n",
        "plot_prediction(predictions=y_preds)"
      ],
      "metadata": {
        "colab": {
          "base_uri": "https://localhost:8080/",
          "height": 291
        },
        "id": "eLMIZePv5tWH",
        "outputId": "9e701039-0ac8-4cf7-977a-359223a3a08d"
      },
      "execution_count": 61,
      "outputs": [
        {
          "output_type": "display_data",
          "data": {
            "text/plain": [
              "<Figure size 500x300 with 1 Axes>"
            ],
            "image/png": "[encoded data removed]"
          },
          "metadata": {}
        }
      ]
    },
    {
      "cell_type": "markdown",
      "source": [
        "\n",
        "5. Save your trained model's state_dict() to file."
      ],
      "metadata": {
        "id": "4NGRZNmM6Xvn"
      }
    },
    {
      "cell_type": "code",
      "source": [
        "from pathlib import Path\n",
        "# 1. Create models directory\n",
        "MODEL_PATH=Path(\"models\")\n",
        "MODEL_PATH.mkdir(parents=True,exist_ok=True)\n",
        "\n",
        "# 2. Create model save path\n",
        "MODEL_NAME=\"01_pytorch_model.pth\"\n",
        "MODEL_SAVE_PATH=MODEL_PATH / MODEL_NAME\n",
        "\n",
        "# 3. Save the model state dict\n",
        "print(f\"saving model to:{MODEL_SAVE_PATH}\")\n",
        "torch.save(obj=Model_1.state_dict(),f=MODEL_SAVE_PATH)\n",
        "\n",
        "# Create new instance of model and load saved state dict\n",
        "Loaded_model_0=LinearRegressionModel()\n",
        "Loaded_model_0.load_state_dict(torch.load(MODEL_SAVE_PATH))\n",
        "\n",
        "# Make predictions with loaded model and compare them to the previous\n",
        "Loaded_model_0.eval()\n",
        "with torch.inference_mode():\n",
        "  loaded_model_preds=Loaded_model_0(x_test)\n",
        "\n",
        "y_preds==loaded_model_preds"
      ],
      "metadata": {
        "colab": {
          "base_uri": "https://localhost:8080/"
        },
        "id": "_Bu-f2QYAO1H",
        "outputId": "627b4b3b-7d38-4e22-836c-5897349d4165"
      },
      "execution_count": 63,
      "outputs": [
        {
          "output_type": "stream",
          "name": "stdout",
          "text": [
            "saving model to:models/01_pytorch_model.pth\n"
          ]
        },
        {
          "output_type": "execute_result",
          "data": {
            "text/plain": [
              "tensor([True, True, True, True, True, True, True, True, True, True, True, True,\n",
              "        True, True, True, True, True, True, True, True])"
            ]
          },
          "metadata": {},
          "execution_count": 63
        }
      ]
    }
  ]
}